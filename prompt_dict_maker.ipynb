{
 "cells": [
  {
   "cell_type": "code",
   "execution_count": 20,
   "id": "e2c00a00-39f6-419e-90e0-c43504658439",
   "metadata": {},
   "outputs": [],
   "source": [
    "import json\n",
    "import pprint as pp"
   ]
  },
  {
   "cell_type": "code",
   "execution_count": 22,
   "id": "fce080e2-6d46-4612-8c08-aa497eb9cd47",
   "metadata": {},
   "outputs": [],
   "source": [
    "class save_prompts:\n",
    "    __main_folder = '../prompts/'\n",
    "    __filename = 'open_ai_prompts.json'\n",
    "\n",
    "    def __init__(self):\n",
    "        #self.__main_folder = '../prompts/'\n",
    "        #self.__filename = 'open_ai_prompts.json'\n",
    "        return\n",
    "\n",
    "    @classmethod\n",
    "    def add_prompt(cls, key, value):\n",
    "        with open(f'{cls.__main_folder}{cls.__filename}', 'r') as fp:\n",
    "            data = fp.read()\n",
    "        fp.close()\n",
    "        existing_prompt = {}\n",
    "        if(data.strip()=='' or data.strip()=='{}' or data.strip()=='[]'):             #if the file is empty, no need to load previous dict \n",
    "            existing_prompt[key] = value                \n",
    "            with open(f'{cls.__main_folder}{cls.__filename}', 'w') as fp:\n",
    "                json.dump(existing_prompt, fp)\n",
    "            fp.close()\n",
    "        else:\n",
    "            existing_prompt = json.loads(data)\n",
    "            existing_prompt[key] = value              #This prompt will olverwrite any previous value for the same key  \n",
    "            with open(f'{cls.__main_folder}{cls.__filename}', 'w') as fp:\n",
    "                json.dump(existing_prompt, fp)\n",
    "            fp.close()\n",
    "\n",
    "    @classmethod\n",
    "    def read_prompt(cls, key):\n",
    "        with open(f'{cls.__main_folder}{cls.__filename}', 'r') as fp:\n",
    "            data = fp.read()\n",
    "        fp.close()\n",
    "        if(data.strip()=='' or data.strip()=='{}' or data.strip()=='[]'):        #File is empty and has no prompt\n",
    "            return None\n",
    "        else:\n",
    "            parsed_data = json.loads(data)\n",
    "            if(key in parsed_data):\n",
    "                return parsed_data.get(key)\n",
    "            else:\n",
    "                return None"
   ]
  },
  {
   "cell_type": "code",
   "execution_count": 35,
   "id": "800796bb-fe3d-4e89-9b10-c81e727a00c6",
   "metadata": {},
   "outputs": [],
   "source": [
    "#Save Tester\n",
    "\n",
    "add_prompt = save_prompts()\n",
    "key = 'headlines_classifier_real_estate'\n",
    "value = '''You are an expert classifier of newspaper reports which identifies if a given article headline contains information about a specific topic or not.\n",
    "            The topic to identify is Real-Estate. Real-Estate news can be about new project launches, about market conditions, about real estate deals, \n",
    "            about regulatory action, about RERA and about specific builders and projects.\n",
    "            You can use internal knowledge to identify builders and promoters in the real estate markets of India.\n",
    "            \n",
    "            You are given a list of newspaper headlines from India. The city of the article will also be supplied to you.\n",
    "            For each of the headlines, produce a classification which is *True* if the headline has information about Real-Estate and *False* if it does not.\n",
    "            For each of the headlines, also give a 75-character only explanation of your logic.    \n",
    "            Produce your output in a structured output of Headline, Classification and Explanation.\n",
    "            Process all the headlines sent to you.\n",
    "           '''\n",
    "add_prompt.add_prompt(key, value)"
   ]
  },
  {
   "cell_type": "code",
   "execution_count": 34,
   "id": "128d7ccb-98eb-41e4-a883-2a1a5dbeb654",
   "metadata": {},
   "outputs": [
    {
     "name": "stdout",
     "output_type": "stream",
     "text": [
      "('You are an expert classifier of newspaper reports which identifies if a '\n",
      " 'given article headline contains information about a specific topic or not.\\n'\n",
      " '            The topic to identify is Real Estate. Real Estate news can be '\n",
      " 'about new project launches, about market conditions, about real estate '\n",
      " 'deals, \\n'\n",
      " '            about regulatory action, about RERA and about specific builders '\n",
      " 'and projects.\\n'\n",
      " '            You can use internal knowledge to identify builders and '\n",
      " 'promoters in the real estate markets of India.\\n'\n",
      " '\\n'\n",
      " '            You are given a list of newspaper headlines from India. The city '\n",
      " 'of the article will also be supplied to you.\\n'\n",
      " '            For each of the headlines, produce a classification which is '\n",
      " '*True* if the headline has information about Real Estate and *False* if it '\n",
      " 'does not.\\n'\n",
      " '            For each of the headlines, also give a 75-character only '\n",
      " 'explanation of your logic.    \\n'\n",
      " '            Produce your output in a structured output of Headline, '\n",
      " 'Classification and Explanation.\\n'\n",
      " '            Process all the headlines sent to you.\\n'\n",
      " '           ')\n"
     ]
    }
   ],
   "source": [
    "#Reads after save\n",
    "pp.pprint(save_prompts.read_prompt('headlines_classifier_real_estate'))"
   ]
  },
  {
   "cell_type": "code",
   "execution_count": null,
   "id": "d2b0f1c2-9cec-4218-b023-56d27428df96",
   "metadata": {},
   "outputs": [],
   "source": []
  }
 ],
 "metadata": {
  "kernelspec": {
   "display_name": "Python 3 (ipykernel)",
   "language": "python",
   "name": "python3"
  },
  "language_info": {
   "codemirror_mode": {
    "name": "ipython",
    "version": 3
   },
   "file_extension": ".py",
   "mimetype": "text/x-python",
   "name": "python",
   "nbconvert_exporter": "python",
   "pygments_lexer": "ipython3",
   "version": "3.12.3"
  }
 },
 "nbformat": 4,
 "nbformat_minor": 5
}
