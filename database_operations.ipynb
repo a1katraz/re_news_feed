{
 "cells": [
  {
   "cell_type": "code",
   "execution_count": 1,
   "id": "267c89c3-095a-4eb2-ac7b-d8f6ff34f1df",
   "metadata": {},
   "outputs": [
    {
     "data": {
      "text/plain": [
       "True"
      ]
     },
     "execution_count": 1,
     "metadata": {},
     "output_type": "execute_result"
    }
   ],
   "source": [
    "import mysql.connector\n",
    "from mysql.connector import Error\n",
    "from sqlalchemy import create_engine\n",
    "from mysql.connector.cursor import MySQLCursorPrepared\n",
    "import pandas\n",
    "import os\n",
    "import sys\n",
    "import dotenv as env\n",
    "\n",
    "env.load_dotenv('../keys/keys.env')"
   ]
  },
  {
   "cell_type": "code",
   "execution_count": 2,
   "id": "fd7a9450-6ff2-4513-8e9e-c9ae25138c24",
   "metadata": {},
   "outputs": [],
   "source": [
    "class mysql_Database:\n",
    "    __host = os.environ.get('MYSQL_SERVER')\n",
    "    __mysql_user = os.environ.get('MYSQL_USER_NAME')\n",
    "    __mysql_passwd = os.environ.get('MYSQL_USER_PASSWD')\n",
    "    __mysql_database: str\n",
    "    \n",
    "    def __init__(self, database:str):\n",
    "        try:\n",
    "            self.__connection = mysql.connector.connect(\n",
    "                                host=mysql_Database.__host,      # Change if your MySQL server is on a different host\n",
    "                                database=database,  # Replace with your database name\n",
    "                                user=mysql_Database.__mysql_user,  # Replace with your MySQL username\n",
    "                                password=mysql_Database.__mysql_passwd  # Replace with your MySQL password\n",
    "                            )\n",
    "            if(self.__connection.is_connected()):\n",
    "                self.__cursor = self.__connection.cursor(prepared=True) \n",
    "                mysql_Database.__mysql_database = database\n",
    "        except Exception as e:\n",
    "            print(f'Exception occurred while connecting to the database. Please check database name or credentials. {e}.')\n",
    "            import traceback\n",
    "            traceback.print_exc()\n",
    "             \n",
    "    def execute_a_query(self, query: str, params: tuple=()) -> pandas.DataFrame:\n",
    "        if(self.__connection.is_connected()):\n",
    "            self.__cursor.execute(query, params)\n",
    "            rows = self.__cursor.fetchall()\n",
    "            df = pandas.DataFrame(rows, columns=[column[0] for column in self.__cursor.description])        # This is not a class or a instanc e variable as you can have \n",
    "                                                                                                     # different outcomes for each query which you don't need to save here\n",
    "            return df\n",
    "        else:\n",
    "            return None                     #No dataframe when no connection exists\n",
    "\n",
    "    def create_table(self, tablename: str, column_defs:str) -> int:\n",
    "        check_query = '''\n",
    "                    SELECT COUNT(*) FROM information_schema.tables WHERE table_name='{}'\n",
    "                    AND table_schema='{}'\n",
    "                    '''\n",
    "        check_query = check_query.format(tablename, self.__mysql_database)\n",
    "\n",
    "        self.__cursor.execute(check_query)\n",
    "        exists = self.__cursor.fetchone()[0]\n",
    "        if exists:\n",
    "            print(f\"Table {tablename} already exists. Not created in this execution...\")\n",
    "        else:    \n",
    "            base_query =  '''CREATE TABLE IF NOT EXISTS {} (\n",
    "                            {}\n",
    "                        )\n",
    "                        '''\n",
    "            final_query = base_query.format(tablename, column_defs)\n",
    "            try:\n",
    "                self.__cursor.execute(final_query)\n",
    "                self.__connection.commit()\n",
    "                print(f'Table {tablename} has been created.')\n",
    "                return 0\n",
    "            except mysql.connector.Error as err:\n",
    "                print(f'Error in creating table {tablename} as {err}')\n",
    "                return -1 \n",
    "\n",
    "    def insert_values_in_table(self, tablename: str, df: pandas.DataFrame):\n",
    "        # We expect all data to be pushed to the table to be conforming with MySQL standards\n",
    "        # Any pre-processing of data types, rearragnment of columns etc must be done before the function is called and df should be in an acceptable format \n",
    "        try:\n",
    "            engine = create_engine(f'mysql+mysqlconnector://{mysql_Database.__mysql_user}:{mysql_Database.__mysql_passwd}@{mysql_Database.__host}:3306/{mysql_Database.__mysql_database}')\n",
    "            df.to_sql(tablename, con=engine, if_exists='append', index=False)\n",
    "            print(f'Inserted {df.shape[0]} values in the {tablename}.')\n",
    "        except Exception as e:\n",
    "            print(f'Writing DataFrame to database caused an error. {e}')\n",
    "        \n",
    "    def search_values_in_table(self, tablename:str, test_field: str, match_values: pandas.Series, output_fields: list[str]=['*']) -> pandas.DataFrame:\n",
    "        #Only send that column in the input dataframe which are to be matched against the test_fields in the database\n",
    "        #Allowed for only 1 column testing\n",
    "        try:\n",
    "            engine = create_engine(f'mysql+mysqlconnector://{mysql_Database.__mysql_user}:{mysql_Database.__mysql_passwd}@{mysql_Database.__host}:3306/{mysql_Database.__mysql_database}')\n",
    "            \n",
    "            if(output_fields[0] == '*'):\n",
    "                op_fields = '*'\n",
    "            else:\n",
    "                op_fields = ', '.join(field for field in output_fields)\n",
    "            \n",
    "            match_list = ', '.join(f\"\\'{value}\\'\" for value in match_values.tolist())\n",
    "            \n",
    "            search_query = f'''SELECT {op_fields} FROM {tablename}\n",
    "                                WHERE {test_field} IN (\n",
    "                                {match_list}\n",
    "                                )\n",
    "                            '''\n",
    "            #print(search_query)\n",
    "            df_results = pandas.read_sql(search_query, con=engine)\n",
    "            return df_results\n",
    "        except Exception as e:\n",
    "            print(f'Searching for {test_field} in the  database caused an error. {e}')\n",
    "        \n",
    "    def new_connection(self, database: str):\n",
    "        try:\n",
    "            self.__connection = mysql.connector.connect(\n",
    "                                host=mysql_Database.__host,      # Change if your MySQL server is on a different host\n",
    "                                database=database,  # Replace with your database name\n",
    "                                user=mysql_Database.__mysql_user,  # Replace with your MySQL username\n",
    "                                password=mysql_Database.__mysql_passwd  # Replace with your MySQL password\n",
    "                            )\n",
    "            if(self.__connection.is_connected()):\n",
    "                self.__cursor = self.__connection.cursor(prepared=True)\n",
    "                mysql_Database.__mysql_database = database\n",
    "        except Exception as e:\n",
    "            #Not resetting the class variable __mysql_database in case of failure - maybe it has the old value?\n",
    "            print(f'Exception occurred while connecting to the database. Please check database name or credentials. {e}.')\n",
    "            import traceback\n",
    "            traceback.print_exc()\n",
    "    \n",
    "    def exitinguish_connection(self):\n",
    "        if(self.__connection.is_connected()):\n",
    "            self.__cursor.close()\n",
    "            self.__connection.close()"
   ]
  },
  {
   "cell_type": "code",
   "execution_count": 3,
   "id": "effe83a1-70f0-4598-9c80-0f9cbad26e07",
   "metadata": {},
   "outputs": [],
   "source": [
    "# One line tester\n",
    "#\n",
    "#cnxn = mysql_Database('timely_feeds')\n",
    "#cnxn.create_table('fact_feed_table', 'link_id VARCHAR(36) PRIMARY KEY, site_name VARCHAR(64), sub_site_name VARCHAR (32), link_date TIMESTAMP')\n",
    "#df = pandas.DataFrame({\n",
    "#            'link_id': ['120831219', '120834074', '120834046', '120833397', '120833347'],\n",
    "#            'site_name': ['TOI', 'TOI', 'TOI', 'TOI', 'TOI'],\n",
    "#            'sub_site_name': ['Mumbai', 'Mumbai', 'Mumbai', 'Mumbai', 'Delhi'],\n",
    "#            'link_date': ['2025-05-02 22:58:48', '2025-05-02 22:15:48', '2025-05-02 21:58:48', '2025-05-02 20:58:48', '2025-05-02 22:58:40']\n",
    "#        }\n",
    "#    )\n",
    "#cnxn.insert_values_in_table('fact_feed_table', df)"
   ]
  },
  {
   "cell_type": "code",
   "execution_count": 4,
   "id": "53e8854a-9d72-48ac-9cd0-cac2b9a7fa60",
   "metadata": {},
   "outputs": [],
   "source": [
    "#cnxn = mysql_Database('timely_feeds')\n",
    "#test_df = pandas.Series(['120831219', '120833397', '12083339712'])\n",
    "#outcomes = cnxn.search_values_in_table('fact_feed_table', 'link_id', test_df, ['*', 'site_name', 'link_date'])\n",
    "#outcomes"
   ]
  },
  {
   "cell_type": "markdown",
   "id": "4e7dd28f-7f2a-4ac0-96af-54f85b89833e",
   "metadata": {},
   "source": [
    "%reload_ext sql"
   ]
  },
  {
   "cell_type": "markdown",
   "id": "f73183a1-e386-4842-86eb-897a18c9a5f6",
   "metadata": {},
   "source": [
    "%config SqlMagic.style = '_DEPRECATED_DEFAULT'"
   ]
  },
  {
   "cell_type": "markdown",
   "id": "4a3348f7-cf6a-4f79-83dc-70e9537cad9c",
   "metadata": {},
   "source": [
    "%%sql\n",
    "\n",
    "select * from mysql.user where user='feed_user' and host='%';"
   ]
  },
  {
   "cell_type": "code",
   "execution_count": 5,
   "id": "812ad3b8-a1f5-42d2-a247-c1968269729e",
   "metadata": {},
   "outputs": [],
   "source": [
    "#cnxn = mysql_Database('timely_feeds')\n",
    "#fields = ['site_name', 'sub_site_name', 'link_id', 'link', 'title', 'link_date', 'classification', 'explanation']\n",
    "#cnxn.create_table('fact_classified_articles', \n",
    "#                    '''id CHAR(36) NOT NULL PRIMARY KEY DEFAULT (UUID()), \n",
    "#                        site_name VARCHAR(64), \n",
    "#                        sub_site_name VARCHAR (32), \n",
    "#                        link_id VARCHAR(32), \n",
    "#                        link VARCHAR(256), \n",
    "#                        title VARCHAR(256), \n",
    "#                        link_date TIMESTAMP,\n",
    "#                        classification VARCHAR(5),\n",
    "#                        explanation VARCHAR (200)\n",
    "#                        ''')"
   ]
  },
  {
   "cell_type": "code",
   "execution_count": null,
   "id": "10f2d9f2-07c3-4075-8def-130b2b8fb024",
   "metadata": {},
   "outputs": [],
   "source": []
  }
 ],
 "metadata": {
  "kernelspec": {
   "display_name": "Python 3 (ipykernel)",
   "language": "python",
   "name": "python3"
  },
  "language_info": {
   "codemirror_mode": {
    "name": "ipython",
    "version": 3
   },
   "file_extension": ".py",
   "mimetype": "text/x-python",
   "name": "python",
   "nbconvert_exporter": "python",
   "pygments_lexer": "ipython3",
   "version": "3.12.3"
  }
 },
 "nbformat": 4,
 "nbformat_minor": 5
}
