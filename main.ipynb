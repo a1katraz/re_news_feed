{
 "cells": [
  {
   "cell_type": "code",
   "execution_count": 1,
   "id": "dec82b03-051f-4742-8918-4eb0c50f5821",
   "metadata": {},
   "outputs": [
    {
     "name": "stdout",
     "output_type": "stream",
     "text": [
      "test1!\n"
     ]
    }
   ],
   "source": [
    "import requests\n",
    "print('test1!')"
   ]
  },
  {
   "cell_type": "code",
   "execution_count": 1,
   "id": "a419183b-e1ec-40cc-9601-683002b5daff",
   "metadata": {},
   "outputs": [
    {
     "name": "stdout",
     "output_type": "stream",
     "text": [
      "abc!\n"
     ]
    }
   ],
   "source": [
    "print('abc!')"
   ]
  },
  {
   "cell_type": "code",
   "execution_count": null,
   "id": "ec763fd4-8918-4849-b7b1-6a498c123cf3",
   "metadata": {},
   "outputs": [],
   "source": [
    "print('changes2!')"
   ]
  }
 ],
 "metadata": {
  "kernelspec": {
   "display_name": "news_feed",
   "language": "python",
   "name": "news_feed"
  },
  "language_info": {
   "codemirror_mode": {
    "name": "ipython",
    "version": 3
   },
   "file_extension": ".py",
   "mimetype": "text/x-python",
   "name": "python",
   "nbconvert_exporter": "python",
   "pygments_lexer": "ipython3",
   "version": "3.12.3"
  }
 },
 "nbformat": 4,
 "nbformat_minor": 5
}
