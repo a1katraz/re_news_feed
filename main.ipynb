{
 "cells": [
  {
   "cell_type": "code",
   "execution_count": 1,
   "id": "dec82b03-051f-4742-8918-4eb0c50f5821",
   "metadata": {},
   "outputs": [],
   "source": [
    "import ipynb.fs.full.times_reader as feedreader\n",
    "import ipynb.fs.full.openai_models as openai\n",
    "import ipynb.fs.full.gemini_models as gemini\n",
    "import ipynb.fs.full.data_operations as data\n",
    "import pandas\n",
    "import pprint\n",
    "import json"
   ]
  },
  {
   "cell_type": "code",
   "execution_count": 2,
   "id": "0988ca48-1396-40a9-82f2-c249aac053dd",
   "metadata": {},
   "outputs": [],
   "source": [
    "def main():\n",
    "    cities = ['Mumbai', 'Delhi', 'Bangalore']\n",
    "    for city in cities:\n",
    "        try:\n",
    "            feedreader.toi_feed_reader.load_links()\n",
    "            \n",
    "            print(f'Trying feed for city: {city}...')\n",
    "            feed = feedreader.toi_feed_reader(city)\n",
    "            entries = feed.get_feed_entries()\n",
    "            print(f'Found {entries.shape[0]} news articles for {city}. Now processing to analyse...')\n",
    "            \n",
    "            llm = gemini.Gemini_Models()\n",
    "            response = llm.classify_headlines(entries[['sub-site', 'title']], silent_mode=False)\n",
    "            if(response.strip()=='' or response.strip()=='{}' or response.strip()=='[]'):\n",
    "                continue\n",
    "            else:\n",
    "                classified_hl = pandas.DataFrame(json.loads(response), columns=['title', 'classification', 'explanation'])\n",
    "                \n",
    "                itemized_hl = entries.join(classified_hl, lsuffix='_orig', rsuffix='_copy') \n",
    "                itemized_hl = itemized_hl[itemized_hl['classification'] == True]\n",
    "                itemized_hl.drop_duplicates(subset=['link_id'], keep='first', inplace=True, ignore_index=False)\n",
    "                \n",
    "                writer = data.gspread_Operator()\n",
    "                writer.write_headlines(itemized_hl)\n",
    "            \n",
    "        except Exception as e:\n",
    "            print(f'Caught exception {e} in code flow...')\n",
    "            import traceback\n",
    "            traceback.print_exc()\n",
    "        finally:\n",
    "            continue"
   ]
  },
  {
   "cell_type": "code",
   "execution_count": 3,
   "id": "96eb9d2b-8691-4fd4-b92b-d380f9187ddd",
   "metadata": {},
   "outputs": [
    {
     "name": "stdout",
     "output_type": "stream",
     "text": [
      "Trying feed for city: Mumbai...\n",
      "Found 20 news articles for Mumbai. Now processing to analyse...\n",
      "Sending titles for classification to Gemini model...\n",
      "Input is of length: 20.\n",
      "Wrote 7 lines to Links sheet in the workbook\n",
      "Trying feed for city: Delhi...\n",
      "Found 20 news articles for Delhi. Now processing to analyse...\n",
      "Sending titles for classification to Gemini model...\n",
      "Input is of length: 20.\n",
      "Wrote 1 lines to Links sheet in the workbook\n",
      "Trying feed for city: Bangalore...\n",
      "Found 20 news articles for Bangalore. Now processing to analyse...\n",
      "Sending titles for classification to Gemini model...\n",
      "Input is of length: 20.\n"
     ]
    }
   ],
   "source": [
    "if __name__ == '__main__':\n",
    "    hl = main()"
   ]
  },
  {
   "cell_type": "code",
   "execution_count": null,
   "id": "ecabb59a-553d-418f-ab33-ddb20f05c882",
   "metadata": {},
   "outputs": [],
   "source": []
  }
 ],
 "metadata": {
  "kernelspec": {
   "display_name": "news_feed",
   "language": "python",
   "name": "news_feed"
  },
  "language_info": {
   "codemirror_mode": {
    "name": "ipython",
    "version": 3
   },
   "file_extension": ".py",
   "mimetype": "text/x-python",
   "name": "python",
   "nbconvert_exporter": "python",
   "pygments_lexer": "ipython3",
   "version": "3.12.3"
  }
 },
 "nbformat": 4,
 "nbformat_minor": 5
}
