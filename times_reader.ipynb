{
 "cells": [
  {
   "cell_type": "code",
   "execution_count": 1,
   "id": "d152923c-7035-4953-933b-fa39dc7aa9be",
   "metadata": {},
   "outputs": [],
   "source": [
    "import feedparser\n",
    "import json\n",
    "import pprint as pp\n",
    "import pandas"
   ]
  },
  {
   "cell_type": "code",
   "execution_count": 2,
   "id": "c2abf4b8-6ae2-4289-a8d5-b3390ca7f633",
   "metadata": {},
   "outputs": [],
   "source": [
    "class toi_feed_reader:\n",
    "    __global_rss_links: dict   #A class variable because it is expected to be a universal constant, but we need to initailize it as run time to enable reading from a file\n",
    "    __json_loc = '../prompts/toi_rss_links.json'\n",
    "\n",
    "    def __init__(self, city_name: str):\n",
    "        self.__cityname = city_name\n",
    "        self.__feed_url = toi_feed_reader.__global_rss_links.get(city_name)\n",
    "        self.__feed = feedparser.parse(self.__feed_url)\n",
    "        #pp.pprint(self.__feed)\n",
    "\n",
    "    def get_feed_entries(self) -> pandas.DataFrame:\n",
    "        article_title = []\n",
    "        article_link = []\n",
    "        article_link_id = []\n",
    "        article_date = []\n",
    "        \n",
    "        for entry in self.__feed.entries:\n",
    "            article_title.append(entry.title)\n",
    "            article_link.append(entry.link)\n",
    "            article_link_id.append(entry.link[-13:][:9])\n",
    "            article_date.append(entry.published)\n",
    "\n",
    "        df = pandas.DataFrame({\n",
    "                        'links': article_link, \n",
    "                        'title': article_title,\n",
    "                        'link_id': article_link_id,\n",
    "                        'link_date': article_date\n",
    "        })\n",
    "        df.insert(0, 'site_name', 'TOI')\n",
    "        df.insert(1, 'sub_site_name', self.__cityname)\n",
    "        return df\n",
    "        \n",
    "    @classmethod\n",
    "    def load_links(cls):\n",
    "        with open(f'{cls.__json_loc}', 'r') as fp:\n",
    "            data = fp.read()\n",
    "        fp.close()\n",
    "        if(data.strip()=='' or data.strip()=='{}' or data.strip()=='[]'):        #File is empty and has no links\n",
    "            cls.__global_rss_links = {}\n",
    "        else:\n",
    "            cls.__global_rss_links = json.loads(data)\n",
    "\n",
    "    @classmethod\n",
    "    def show_all_rss_links(cls):\n",
    "        return cls.__global_rss_links\n",
    "\n",
    "    "
   ]
  },
  {
   "cell_type": "code",
   "execution_count": 3,
   "id": "50fd69ae-e3e2-4719-b35c-1f84500d2aa6",
   "metadata": {},
   "outputs": [],
   "source": [
    "#one line tester\n",
    "\n",
    "#toi_feed_reader.load_links()\n",
    "#rdr = toi_feed_reader('Mumbai')\n",
    "#df = rdr.get_feed_entries()\n",
    "#pp.pprint(df['title'])"
   ]
  },
  {
   "cell_type": "code",
   "execution_count": null,
   "id": "aeb7d5e8-68fd-4aaa-9f63-9efa0737cb43",
   "metadata": {},
   "outputs": [],
   "source": []
  }
 ],
 "metadata": {
  "kernelspec": {
   "display_name": "Python 3 (ipykernel)",
   "language": "python",
   "name": "python3"
  },
  "language_info": {
   "codemirror_mode": {
    "name": "ipython",
    "version": 3
   },
   "file_extension": ".py",
   "mimetype": "text/x-python",
   "name": "python",
   "nbconvert_exporter": "python",
   "pygments_lexer": "ipython3",
   "version": "3.12.3"
  }
 },
 "nbformat": 4,
 "nbformat_minor": 5
}
