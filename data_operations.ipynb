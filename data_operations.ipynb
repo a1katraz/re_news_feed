{
 "cells": [
  {
   "cell_type": "code",
   "execution_count": 1,
   "id": "a208a7e5-360a-45e8-9547-5f8307d62754",
   "metadata": {},
   "outputs": [],
   "source": [
    "import gspread\n",
    "from oauth2client.service_account import ServiceAccountCredentials\n",
    "import pprint\n",
    "from uuid import UUID\n",
    "import time\n",
    "import pandas\n",
    "import gspread_dataframe as gsdf"
   ]
  },
  {
   "cell_type": "code",
   "execution_count": 2,
   "id": "c9f0c432-ff4d-4687-8b72-9ec802968aec",
   "metadata": {},
   "outputs": [],
   "source": [
    "class gspread_Operator:\n",
    "    __scope = []\n",
    "    __scope.append('https://www.googleapis.com/auth/drive')\n",
    "    __scope.append('https://www.googleapis.com/auth/drive.file')\n",
    "    __key_file = 'main-webserver-clientkey.json'\n",
    "    __file_idf = '1b35uiSdrP_TTVqMpgIXmtQXO45_vc03vef7OTzHV9LU'\n",
    "    \n",
    "    def __init__(self):\n",
    "        #print(type(self.__scope))\n",
    "        #self.__scope=[]\n",
    "        #self.__scope.append('https://www.googleapis.com/auth/drive')\n",
    "        #self.__scope.append('https://www.googleapis.com/auth/drive.file')\n",
    "        #self.__key_file = 'main-webserver-clientkey.json'\n",
    "        creds = ServiceAccountCredentials.from_json_keyfile_name(f'../keys/{gspread_Operator.__key_file}', gspread_Operator.__scope)\n",
    "        self.__gs_client = gspread.authorize(creds)\n",
    "        \n",
    "   #def activate(self):\n",
    "   #     creds = ServiceAccountCredentials.from_json_keyfile_name(f'../keys/{self.__key_file}', self.__scope)\n",
    "   #     return gspread.authorize(creds)\n",
    "\n",
    "    def write_headlines(self, validated_titles: pandas.DataFrame) -> int:\n",
    "        # Writes a set of validated headlines to a Google sheet\n",
    "        #gs_client = activate()\n",
    "        file = self.__gs_client.open_by_key(self.__file_idf)  # All writes are to this specific file\n",
    "        worksheet = file.worksheet('TOI')  # Headline are written to this sheet\n",
    "        lines = 0\n",
    "        for idx, row in validated_titles.iterrows():\n",
    "            if(isinstance(row['link_id'], UUID)):\n",
    "                row['link_id'] = str(row['link_id'])\n",
    "            worksheet.append_row(row.tolist())\n",
    "            lines += 1 \n",
    "        print(f'Wrote {lines} lines to Links sheet in the workbook')\n",
    "        worksheet.client.session.close()\n",
    "        return 0\n",
    "\n",
    "    def give_client(self):                 #method to allow local testing in a file.\n",
    "        return self.__gs_client"
   ]
  },
  {
   "cell_type": "code",
   "execution_count": 3,
   "id": "2e50b2b7-6574-4993-80a5-728273209e74",
   "metadata": {},
   "outputs": [],
   "source": [
    "#One line tester\n",
    "\n",
    "#gs = gspread_Operator()\n",
    "#df = pandas.DataFrame([['cash', 'cash'],['lehera', 'karke']], columns=['A', 'uuid'])\n",
    "#gs.write_headlines(df)"
   ]
  },
  {
   "cell_type": "code",
   "execution_count": null,
   "id": "85df1627-4cb2-4c1e-8c7c-602475a6b649",
   "metadata": {},
   "outputs": [],
   "source": []
  }
 ],
 "metadata": {
  "kernelspec": {
   "display_name": "Python 3 (ipykernel)",
   "language": "python",
   "name": "python3"
  },
  "language_info": {
   "codemirror_mode": {
    "name": "ipython",
    "version": 3
   },
   "file_extension": ".py",
   "mimetype": "text/x-python",
   "name": "python",
   "nbconvert_exporter": "python",
   "pygments_lexer": "ipython3",
   "version": "3.12.3"
  }
 },
 "nbformat": 4,
 "nbformat_minor": 5
}
